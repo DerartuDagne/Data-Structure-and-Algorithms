{
  "nbformat": 4,
  "nbformat_minor": 0,
  "metadata": {
    "colab": {
      "provenance": []
    },
    "kernelspec": {
      "name": "python3",
      "display_name": "Python 3"
    },
    "language_info": {
      "name": "python"
    }
  },
  "cells": [
    {
      "cell_type": "markdown",
      "source": [
        "#1.append"
      ],
      "metadata": {
        "id": "vIIzcWzCVNRL"
      }
    },
    {
      "cell_type": "code",
      "source": [
        "import array as arr\n",
        "b = arr.array('d', [2.5, 3.2, 3.3])\n",
        "print(\"Array before insertion : \", end=\" \")\n",
        "for i in range(0, 3):\n",
        "    print(b[i], end=\" \")\n",
        "print()"
      ],
      "metadata": {
        "colab": {
          "base_uri": "https://localhost:8080/"
        },
        "id": "sM9HBz7MVRh1",
        "outputId": "591ef34d-7c36-4c79-b307-d48797cc8a5f"
      },
      "execution_count": null,
      "outputs": [
        {
          "output_type": "stream",
          "name": "stdout",
          "text": [
            "Array before insertion :  2.5 3.2 3.3 \n"
          ]
        }
      ]
    },
    {
      "cell_type": "code",
      "source": [
        "b.append(4.4)\n",
        "print(\"Array after insertion : \", end=\" \")\n",
        "for i in (b):\n",
        "    print(i, end=\" \")\n",
        "print()"
      ],
      "metadata": {
        "colab": {
          "base_uri": "https://localhost:8080/"
        },
        "id": "9Q9d3kugVY__",
        "outputId": "3f880d86-ca72-400e-cb63-5d63ca61e568"
      },
      "execution_count": null,
      "outputs": [
        {
          "output_type": "stream",
          "name": "stdout",
          "text": [
            "Array after insertion :  2.5 3.2 3.3 4.4 \n"
          ]
        }
      ]
    },
    {
      "cell_type": "markdown",
      "source": [
        "#2.Reverse\n",
        "Reverses the order of an array list"
      ],
      "metadata": {
        "id": "tOD_eHXBV8Xz"
      }
    },
    {
      "cell_type": "code",
      "source": [
        "# Example 1\n",
        "original_list = [1, 2, 3, 4, 5]\n",
        "reversed_list = []\n",
        "\n",
        "for item in reversed(original_list):\n",
        "    reversed_list.append(item)\n",
        "print(reversed_list)"
      ],
      "metadata": {
        "colab": {
          "base_uri": "https://localhost:8080/"
        },
        "id": "kRXm01I6ZSk6",
        "outputId": "aaff687d-d644-4a7d-e0e9-ea9bef55c854"
      },
      "execution_count": null,
      "outputs": [
        {
          "output_type": "stream",
          "name": "stdout",
          "text": [
            "[5, 4, 3, 2, 1]\n"
          ]
        }
      ]
    },
    {
      "cell_type": "markdown",
      "source": [
        "#Reverse Array Using Slicing"
      ],
      "metadata": {
        "id": "rLsa11u3ygQU"
      }
    },
    {
      "cell_type": "code",
      "source": [
        "original_list = [1, 2, 3, 4, 5]\n",
        "reversed_list = original_list[::-1]\n",
        "print(reversed_list)"
      ],
      "metadata": {
        "colab": {
          "base_uri": "https://localhost:8080/"
        },
        "id": "XppileyPyviz",
        "outputId": "48492997-6486-4331-c6b4-29d50dc97c98"
      },
      "execution_count": null,
      "outputs": [
        {
          "output_type": "stream",
          "name": "stdout",
          "text": [
            "[5, 4, 3, 2, 1]\n"
          ]
        }
      ]
    },
    {
      "cell_type": "markdown",
      "source": [
        "#Reverse the List by Swapping Present and Last Numbers"
      ],
      "metadata": {
        "id": "nKe-bXNd0ZSB"
      }
    },
    {
      "cell_type": "code",
      "source": [
        "original_list = [1, 2, 3, 4, 5]\n",
        "\n",
        "start = 0\n",
        "end = len(original_list) - 1\n",
        "\n",
        "while start < end:\n",
        "    original_list[start], original_list[end] = original_list[end], original_list[start]\n",
        "    start = 1\n",
        "    end -= 1\n",
        "\n",
        "print(original_list)"
      ],
      "metadata": {
        "colab": {
          "base_uri": "https://localhost:8080/"
        },
        "id": "2Hg-R-310hI5",
        "outputId": "78e3ec0c-9161-47b0-c95c-3a7e8d432d54"
      },
      "execution_count": null,
      "outputs": [
        {
          "output_type": "stream",
          "name": "stdout",
          "text": [
            "[5, 3, 4, 2, 1]\n"
          ]
        }
      ]
    },
    {
      "cell_type": "markdown",
      "source": [
        "#Reverse Array Using Built-in Functions"
      ],
      "metadata": {
        "id": "QXgJX3kdtwQL"
      }
    },
    {
      "cell_type": "code",
      "source": [
        "# Example 1 - Using reverse()\n",
        "original_list = [1, 2, 3, 4, 5]\n",
        "original_list.reverse()\n",
        "print(original_list)\n",
        "# Output: [5, 4, 3, 2, 1]\n",
        "\n",
        "# Output: ['cherry,' 'banana,' 'apple']\n",
        "# Example 3 - Using reversed() with a for loop\n",
        "original_list = [10, 20, 30]\n",
        "reversed_list = list(reversed(original_list))\n",
        "print(reversed_list)\n",
        "# Output: [30, 20, 10]"
      ],
      "metadata": {
        "colab": {
          "base_uri": "https://localhost:8080/"
        },
        "id": "Uks2syER19Cc",
        "outputId": "10213d65-f181-4a44-f5f9-477ea541b382"
      },
      "execution_count": null,
      "outputs": [
        {
          "output_type": "stream",
          "name": "stdout",
          "text": [
            "[5, 4, 3, 2, 1]\n",
            "[30, 20, 10]\n"
          ]
        }
      ]
    },
    {
      "cell_type": "markdown",
      "source": [
        "#Reverse a List Using a Two-Pointer Approach"
      ],
      "metadata": {
        "id": "_1dchfveubij"
      }
    },
    {
      "cell_type": "code",
      "source": [
        "original_list = [1, 2, 3, 4, 5]\n",
        "\n",
        "start = 0\n",
        "end = len(original_list) - 1\n",
        "\n",
        "while start < end:\n",
        "    original_list[start], original_list[end] = original_list[end], original_list[start]\n",
        "    start = 1\n",
        "    end -= 1\n",
        "\n",
        "print(original_list)"
      ],
      "metadata": {
        "colab": {
          "base_uri": "https://localhost:8080/"
        },
        "id": "XcqKGwh2uavA",
        "outputId": "a48139ec-5207-41cc-df70-1f70c4e43d05"
      },
      "execution_count": null,
      "outputs": [
        {
          "output_type": "stream",
          "name": "stdout",
          "text": [
            "[5, 3, 4, 2, 1]\n"
          ]
        }
      ]
    },
    {
      "cell_type": "code",
      "source": [
        "original_list = [10, 20, 30]\n",
        "\n",
        "start = 0\n",
        "end = len(original_list) - 1\n",
        "\n",
        "while start < end:\n",
        "    original_list[start], original_list[end] = original_list[end], original_list[start]\n",
        "    start = 1\n",
        "    end -= 1\n",
        "\n",
        "print(original_list)"
      ],
      "metadata": {
        "colab": {
          "base_uri": "https://localhost:8080/"
        },
        "id": "HGL51pg3uwoT",
        "outputId": "eb85c173-f9b2-4d24-96e9-2777f37a2283"
      },
      "execution_count": null,
      "outputs": [
        {
          "output_type": "stream",
          "name": "stdout",
          "text": [
            "[30, 20, 10]\n"
          ]
        }
      ]
    },
    {
      "cell_type": "markdown",
      "source": [
        "#Reverse a List Using the insert() Function"
      ],
      "metadata": {
        "id": "qH7YbXRIvNb0"
      }
    },
    {
      "cell_type": "code",
      "source": [
        "original_list = [1, 2, 3, 4, 5]\n",
        "reversed_list = []\n",
        "\n",
        "for item in original_list:\n",
        "    reversed_list.insert(0, item)\n",
        "\n",
        "print(reversed_list)"
      ],
      "metadata": {
        "colab": {
          "base_uri": "https://localhost:8080/"
        },
        "id": "N6u9zZXPvPur",
        "outputId": "1371ef3b-3545-401c-c834-2f1361138285"
      },
      "execution_count": null,
      "outputs": [
        {
          "output_type": "stream",
          "name": "stdout",
          "text": [
            "[5, 4, 3, 2, 1]\n"
          ]
        }
      ]
    },
    {
      "cell_type": "code",
      "source": [
        "original_list = [10, 20, 30]\n",
        "reversed_list = []\n",
        "\n",
        "for item in original_list:\n",
        "    reversed_list.insert(0, item)\n",
        "\n",
        "print(reversed_list)"
      ],
      "metadata": {
        "colab": {
          "base_uri": "https://localhost:8080/"
        },
        "id": "hQxfJqpSvaCK",
        "outputId": "e01db8c7-4759-4415-e78d-48d7bc697fe8"
      },
      "execution_count": null,
      "outputs": [
        {
          "output_type": "stream",
          "name": "stdout",
          "text": [
            "[30, 20, 10]\n"
          ]
        }
      ]
    },
    {
      "cell_type": "markdown",
      "source": [
        "#Reverse a List Using List Comprehension"
      ],
      "metadata": {
        "id": "-gJuVy6svl1Q"
      }
    },
    {
      "cell_type": "code",
      "source": [
        "original_list = [1, 2, 3, 4, 5]\n",
        "reversed_list = [item for item in original_list[::-1]]\n",
        "\n",
        "print(reversed_list)"
      ],
      "metadata": {
        "colab": {
          "base_uri": "https://localhost:8080/"
        },
        "id": "Csuq3n1YvqQo",
        "outputId": "04be4939-bf07-441a-f2ec-d459fd671efa"
      },
      "execution_count": null,
      "outputs": [
        {
          "output_type": "stream",
          "name": "stdout",
          "text": [
            "[5, 4, 3, 2, 1]\n"
          ]
        }
      ]
    },
    {
      "cell_type": "code",
      "source": [
        "original_list = [10, 20, 30]\n",
        "reversed_list = [item for item in original_list[::-1]]\n",
        "\n",
        "print(reversed_list)"
      ],
      "metadata": {
        "colab": {
          "base_uri": "https://localhost:8080/"
        },
        "id": "MXEPLnkmvxTr",
        "outputId": "21e221e1-b9f8-460f-d55c-e479086dad8e"
      },
      "execution_count": null,
      "outputs": [
        {
          "output_type": "stream",
          "name": "stdout",
          "text": [
            "[30, 20, 10]\n"
          ]
        }
      ]
    },
    {
      "cell_type": "markdown",
      "source": [
        "#Reverse a List Using NumPy"
      ],
      "metadata": {
        "id": "e69lfFh9v36k"
      }
    },
    {
      "cell_type": "code",
      "source": [
        "import numpy as np\n",
        "\n",
        "# Example 1\n",
        "original_array = np.array([1, 2, 3, 4, 5])\n",
        "reversed_array = np.flip(original_array)\n",
        "\n",
        "reversed_list = reversed_array.tolist()\n",
        "print(reversed_list)"
      ],
      "metadata": {
        "colab": {
          "base_uri": "https://localhost:8080/"
        },
        "id": "wAEMVRKvv8OI",
        "outputId": "bccac3f6-75a4-40dd-d49a-c18ffbb916f9"
      },
      "execution_count": null,
      "outputs": [
        {
          "output_type": "stream",
          "name": "stdout",
          "text": [
            "[5, 4, 3, 2, 1]\n"
          ]
        }
      ]
    },
    {
      "cell_type": "markdown",
      "source": [
        "#3.Clear()"
      ],
      "metadata": {
        "id": "-R2XID0XwD-u"
      }
    },
    {
      "cell_type": "code",
      "source": [
        "prime_numbers = [2, 3, 5, 7, 9, 11]\n",
        "\n",
        "# remove all elements\n",
        "prime_numbers.clear()\n",
        "\n",
        "# Updated prime_numbers List\n",
        "print('List after clear():', prime_numbers)\n",
        "\n",
        "# Output: List after clear(): []"
      ],
      "metadata": {
        "colab": {
          "base_uri": "https://localhost:8080/"
        },
        "id": "RzakFt_IwoyY",
        "outputId": "71ea2595-e219-4acf-bc7c-5afc4090f087"
      },
      "execution_count": null,
      "outputs": [
        {
          "output_type": "stream",
          "name": "stdout",
          "text": [
            "List after clear(): []\n"
          ]
        }
      ]
    },
    {
      "cell_type": "markdown",
      "source": [
        "#4.pop()"
      ],
      "metadata": {
        "id": "ArI8cZpnzUfq"
      }
    },
    {
      "cell_type": "code",
      "source": [
        "import array as arr\n",
        "#Creating an array\n",
        "my_array1 = arr.array('i',[100,220,330,540])\n",
        "#Printing the elements of an array\n",
        "print(\"Array Elements Before Poping : \", my_array1)\n",
        "index=2\n",
        "my_array1.pop(index)\n",
        "print(\"Array Elements After Poping : \", my_array1)"
      ],
      "metadata": {
        "colab": {
          "base_uri": "https://localhost:8080/"
        },
        "id": "BwodII4Byqm4",
        "outputId": "ae251ad9-66f1-4f01-cfa0-07802974168c"
      },
      "execution_count": null,
      "outputs": [
        {
          "output_type": "stream",
          "name": "stdout",
          "text": [
            "Array Elements Before Poping :  array('i', [100, 220, 330, 540])\n",
            "Array Elements After Poping :  array('i', [100, 220, 540])\n"
          ]
        }
      ]
    },
    {
      "cell_type": "code",
      "source": [
        "import array as arr\n",
        "#Creating an array\n",
        "my_array2 = arr.array('i',[22,32,42,52])\n",
        "#Printing the elements of an array\n",
        "print(\"Array Elements Before Poping : \", my_array2)\n",
        "my_array2.pop()\n",
        "print(\"Array Elements After Poping : \", my_array2)"
      ],
      "metadata": {
        "colab": {
          "base_uri": "https://localhost:8080/"
        },
        "id": "V2Sb2oO44o01",
        "outputId": "1db6d266-03e2-49c0-d768-a8985ca4b332"
      },
      "execution_count": null,
      "outputs": [
        {
          "output_type": "stream",
          "name": "stdout",
          "text": [
            "Array Elements Before Poping :  array('i', [22, 32, 42, 52])\n",
            "Array Elements After Poping :  array('i', [22, 32, 42])\n"
          ]
        }
      ]
    },
    {
      "cell_type": "markdown",
      "source": [
        "###In this method, We can also pass negative index value as an argument."
      ],
      "metadata": {
        "id": "QTVER_OB6agu"
      }
    },
    {
      "cell_type": "code",
      "source": [
        "import array as arr\n",
        "#Creating an array\n",
        "my_array3 = arr.array('d',[22.3,5.2,7.2,9.2,2.4,6.7,11.1])\n",
        "#Printing the elements of an array\n",
        "print(\"Array Elements Before Poping : \", my_array3)\n",
        "index=-3\n",
        "my_array3.pop(index)\n",
        "print(\"Array Elements After Poping : \", my_array3)"
      ],
      "metadata": {
        "colab": {
          "base_uri": "https://localhost:8080/"
        },
        "id": "fPC5coW46M-0",
        "outputId": "f727f145-10ef-4367-f167-15beeda1c76c"
      },
      "execution_count": null,
      "outputs": [
        {
          "output_type": "stream",
          "name": "stdout",
          "text": [
            "Array Elements Before Poping :  array('d', [22.3, 5.2, 7.2, 9.2, 2.4, 6.7, 11.1])\n",
            "Array Elements After Poping :  array('d', [22.3, 5.2, 7.2, 9.2, 6.7, 11.1])\n"
          ]
        }
      ]
    },
    {
      "cell_type": "markdown",
      "source": [
        "###If the index value is given index value is out of range, it will result in index error."
      ],
      "metadata": {
        "id": "8h4YIEPk6mxV"
      }
    },
    {
      "cell_type": "code",
      "source": [
        "import array as arr\n",
        "#Creating an array\n",
        "my_array4 = arr.array('i',[223,529,708,902,249,678,11])\n",
        "#Printing the elements of an array\n",
        "print(\"Array Elements Before Poping : \", my_array4)\n",
        "index=8\n",
        "my_array4.pop(index)\n",
        "print(\"Array Elements After Poping : \", my_array4)"
      ],
      "metadata": {
        "colab": {
          "base_uri": "https://localhost:8080/",
          "height": 216
        },
        "id": "rrLVeaj16iqk",
        "outputId": "1cafcd89-662b-4772-9acf-4fb683770fcf"
      },
      "execution_count": null,
      "outputs": [
        {
          "output_type": "stream",
          "name": "stdout",
          "text": [
            "Array Elements Before Poping :  array('i', [223, 529, 708, 902, 249, 678, 11])\n"
          ]
        },
        {
          "output_type": "error",
          "ename": "IndexError",
          "evalue": "pop index out of range",
          "traceback": [
            "\u001b[0;31m---------------------------------------------------------------------------\u001b[0m",
            "\u001b[0;31mIndexError\u001b[0m                                Traceback (most recent call last)",
            "\u001b[0;32m<ipython-input-17-7fb3e9c94473>\u001b[0m in \u001b[0;36m<cell line: 7>\u001b[0;34m()\u001b[0m\n\u001b[1;32m      5\u001b[0m \u001b[0mprint\u001b[0m\u001b[0;34m(\u001b[0m\u001b[0;34m\"Array Elements Before Poping : \"\u001b[0m\u001b[0;34m,\u001b[0m \u001b[0mmy_array4\u001b[0m\u001b[0;34m)\u001b[0m\u001b[0;34m\u001b[0m\u001b[0;34m\u001b[0m\u001b[0m\n\u001b[1;32m      6\u001b[0m \u001b[0mindex\u001b[0m\u001b[0;34m=\u001b[0m\u001b[0;36m8\u001b[0m\u001b[0;34m\u001b[0m\u001b[0;34m\u001b[0m\u001b[0m\n\u001b[0;32m----> 7\u001b[0;31m \u001b[0mmy_array4\u001b[0m\u001b[0;34m.\u001b[0m\u001b[0mpop\u001b[0m\u001b[0;34m(\u001b[0m\u001b[0mindex\u001b[0m\u001b[0;34m)\u001b[0m\u001b[0;34m\u001b[0m\u001b[0;34m\u001b[0m\u001b[0m\n\u001b[0m\u001b[1;32m      8\u001b[0m \u001b[0mprint\u001b[0m\u001b[0;34m(\u001b[0m\u001b[0;34m\"Array Elements After Poping : \"\u001b[0m\u001b[0;34m,\u001b[0m \u001b[0mmy_array4\u001b[0m\u001b[0;34m)\u001b[0m\u001b[0;34m\u001b[0m\u001b[0;34m\u001b[0m\u001b[0m\n",
            "\u001b[0;31mIndexError\u001b[0m: pop index out of range"
          ]
        }
      ]
    },
    {
      "cell_type": "code",
      "source": [
        "import array as arr\n",
        "a = arr.array('i', [1, 2, 3])\n",
        "print(\"Array before insertion : \", end=\" \")\n",
        "for i in range(0, 3):\n",
        "    print(a[i], end=\" \")\n",
        "print()"
      ],
      "metadata": {
        "colab": {
          "base_uri": "https://localhost:8080/"
        },
        "id": "ZWANaXBskAme",
        "outputId": "8f9f3780-f187-42a5-941e-552d3a2f5f0f"
      },
      "execution_count": null,
      "outputs": [
        {
          "output_type": "stream",
          "name": "stdout",
          "text": [
            "Array before insertion :  1 2 3 \n"
          ]
        }
      ]
    },
    {
      "cell_type": "code",
      "source": [
        "a.insert(1, 4)\n",
        "print(\"Array after insertion : \", end=\" \")\n",
        "for i in (a):\n",
        "    print(i, end=\" \")\n",
        "print()"
      ],
      "metadata": {
        "colab": {
          "base_uri": "https://localhost:8080/"
        },
        "id": "BqGf5PZGkI1D",
        "outputId": "f17b022d-c927-493b-bf33-b096a55a2826"
      },
      "execution_count": null,
      "outputs": [
        {
          "output_type": "stream",
          "name": "stdout",
          "text": [
            "Array after insertion :  1 4 2 3 \n"
          ]
        }
      ]
    },
    {
      "cell_type": "markdown",
      "source": [
        "#5.count()"
      ],
      "metadata": {
        "id": "z4vbAz9oVL80"
      }
    },
    {
      "cell_type": "code",
      "source": [
        "# importing the array module\n",
        "import array as arr\n",
        "\n",
        "# creating an integer data type array\n",
        "x = arr.array('i', [1,2,3,4,5,6,1,2,3,2,4,7])\n",
        "\n",
        "# using the count function for the value 2 in the array\n",
        "y = x.count(2)\n",
        "\n",
        "# printing the number of counts\n",
        "print('The number of occurrences of the value 2 in the array is: ', y)"
      ],
      "metadata": {
        "id": "taTZZ0yItX9M",
        "colab": {
          "base_uri": "https://localhost:8080/"
        },
        "outputId": "408dbf23-4757-4cb2-c313-82cb622b0b72"
      },
      "execution_count": null,
      "outputs": [
        {
          "output_type": "stream",
          "name": "stdout",
          "text": [
            "The number of occurrences of the value 2 in the array is:  3\n"
          ]
        }
      ]
    },
    {
      "cell_type": "code",
      "source": [
        "import array as arr\n",
        "#Creating an array\n",
        "my_array1 = arr.array('i',[404, 150, 300, 150, 350])\n",
        "#Printing the elements of an array\n",
        "print(\"Array Elements are : \",my_array1)\n",
        "element1 = 150\n",
        "#counting element1\n",
        "count = my_array1.count(element1)\n",
        "print(\"count of \",element1,\":\", count)"
      ],
      "metadata": {
        "id": "an36oCe9tYH7",
        "colab": {
          "base_uri": "https://localhost:8080/"
        },
        "outputId": "5d43a505-b82d-4566-daf9-f197539cf4ed"
      },
      "execution_count": null,
      "outputs": [
        {
          "output_type": "stream",
          "name": "stdout",
          "text": [
            "Array Elements are :  array('i', [404, 150, 300, 150, 350])\n",
            "count of  150 : 2\n"
          ]
        }
      ]
    },
    {
      "cell_type": "markdown",
      "source": [
        "#6.Insert"
      ],
      "metadata": {
        "id": "ohTe8PUdY_eU"
      }
    },
    {
      "cell_type": "code",
      "source": [
        "# create a list of numbers\n",
        "numbers = [13, 27, 31, 52, 69]\n",
        "# insert a number at index 3\n",
        "numbers.insert(3, 48)\n",
        "# print the updated list\n",
        "print(numbers)"
      ],
      "metadata": {
        "colab": {
          "base_uri": "https://localhost:8080/"
        },
        "id": "bx_GaUnNbT2r",
        "outputId": "0a9b4bbb-085e-4c00-8a2e-2068a031c467"
      },
      "execution_count": null,
      "outputs": [
        {
          "output_type": "stream",
          "name": "stdout",
          "text": [
            "[13, 27, 31, 48, 52, 69]\n"
          ]
        }
      ]
    },
    {
      "cell_type": "code",
      "source": [
        "# create a list of fruits\n",
        "fruits = [\"apple\", \"banana\", \"orange\", \"pineapple\", \"mango\"]\n",
        "\n",
        "# insert a new fruit at the beginning of the list\n",
        "fruits.insert(0, \"watermelon\")\n",
        "\n",
        "# print the updated list\n",
        "print(fruits)"
      ],
      "metadata": {
        "colab": {
          "base_uri": "https://localhost:8080/"
        },
        "id": "CWp65O5bbgml",
        "outputId": "a9e6828b-7920-4963-fa8c-9a17201d414d"
      },
      "execution_count": null,
      "outputs": [
        {
          "output_type": "stream",
          "name": "stdout",
          "text": [
            "['watermelon', 'apple', 'banana', 'orange', 'pineapple', 'mango']\n"
          ]
        }
      ]
    },
    {
      "cell_type": "code",
      "source": [
        "# create a list of colors\n",
        "colors = [\"red\", \"green\", \"blue\"]\n",
        "\n",
        "# insert a new color at the second-to-last position using a negative index\n",
        "colors.insert(-1, \"yellow\")\n",
        "\n",
        "# print the updated list\n",
        "print(colors)"
      ],
      "metadata": {
        "colab": {
          "base_uri": "https://localhost:8080/"
        },
        "id": "lqRVt33HbZWg",
        "outputId": "f195ab29-2b07-4be0-da34-b1126fa40984"
      },
      "execution_count": null,
      "outputs": [
        {
          "output_type": "stream",
          "name": "stdout",
          "text": [
            "['red', 'green', 'yellow', 'blue']\n"
          ]
        }
      ]
    },
    {
      "cell_type": "markdown",
      "source": [
        "#7.copy"
      ],
      "metadata": {
        "id": "Z7daMGddcMRJ"
      }
    },
    {
      "cell_type": "code",
      "source": [
        "from numpy import array\n",
        "\n",
        "# creating an array\n",
        "my_array = array([1, 2, 3, 4, 5])\n",
        "\n",
        "# using the array.copy() method\n",
        "new_array = my_array.copy()\n",
        "\n",
        "# changing the 0 index of the array\n",
        "my_array[0] = 9\n",
        "print(my_array)\n",
        "print(new_array)"
      ],
      "metadata": {
        "colab": {
          "base_uri": "https://localhost:8080/"
        },
        "id": "xelSaU2ScScB",
        "outputId": "e8883754-8f58-4dee-ba29-64cdcec3b438"
      },
      "execution_count": null,
      "outputs": [
        {
          "output_type": "stream",
          "name": "stdout",
          "text": [
            "[9 2 3 4 5]\n",
            "[1 2 3 4 5]\n"
          ]
        }
      ]
    },
    {
      "cell_type": "code",
      "source": [
        "\n",
        "from numpy import *\n",
        "a = arange(1, 6)\n",
        "b = a.copy()\n",
        "print('Original array:', a)\n",
        "print('New array:', b)\n",
        "b[0]=99\n",
        "print('After modification:')\n",
        "print('Original array:', a)\n",
        "print('New array:', b)"
      ],
      "metadata": {
        "colab": {
          "base_uri": "https://localhost:8080/"
        },
        "id": "6eXBXd23c22K",
        "outputId": "4b647f78-442c-4182-9f14-cf0e3b31230a"
      },
      "execution_count": null,
      "outputs": [
        {
          "output_type": "stream",
          "name": "stdout",
          "text": [
            "Original array: [1 2 3 4 5]\n",
            "New array: [1 2 3 4 5]\n",
            "After modification:\n",
            "Original array: [1 2 3 4 5]\n",
            "New array: [99  2  3  4  5]\n"
          ]
        }
      ]
    },
    {
      "cell_type": "markdown",
      "source": [
        "#8.extend()"
      ],
      "metadata": {
        "id": "Oin8BqFXdciW"
      }
    },
    {
      "cell_type": "code",
      "source": [
        "my_input = ['Engineering', 'Medical']\n",
        "my_input.append('Science')\n",
        "print(my_input)"
      ],
      "metadata": {
        "colab": {
          "base_uri": "https://localhost:8080/"
        },
        "id": "uOF1ik1LalHu",
        "outputId": "7d47af8e-28b7-484d-9e99-81c9cce4fdda"
      },
      "execution_count": null,
      "outputs": [
        {
          "output_type": "stream",
          "name": "stdout",
          "text": [
            "['Engineering', 'Medical', 'Science']\n"
          ]
        }
      ]
    },
    {
      "cell_type": "code",
      "source": [
        "my_input = ['Engineering', 'Medical']\n",
        "input1 = [40, 30, 20, 10]\n",
        "my_input.extend(input1)\n",
        "print(my_input)"
      ],
      "metadata": {
        "colab": {
          "base_uri": "https://localhost:8080/"
        },
        "id": "DJhrCqlEa2ck",
        "outputId": "36a70c73-23fb-45bc-b4ac-7583c828f22d"
      },
      "execution_count": null,
      "outputs": [
        {
          "output_type": "stream",
          "name": "stdout",
          "text": [
            "['Engineering', 'Medical', 40, 30, 20, 10]\n"
          ]
        }
      ]
    },
    {
      "cell_type": "code",
      "source": [
        "import numpy\n",
        " # insert function\n",
        "arr1_insert = numpy.array([1, 23, 33])\n",
        "\n",
        "arr2_insert = numpy.insert(arr1_insert, 1, 91)\n",
        "\n",
        "print(arr2_insert)\n",
        "# append function\n",
        "arr1_append = numpy.array([4, 2, 1])\n",
        "\n",
        "arr2_append = numpy.append (arr1_append, [12, 13, 14])\n",
        "\n",
        "print(arr2_append)"
      ],
      "metadata": {
        "colab": {
          "base_uri": "https://localhost:8080/"
        },
        "id": "mcyqhqwWbIdy",
        "outputId": "3d877f03-54e6-4cae-932f-d8256f4d610b"
      },
      "execution_count": null,
      "outputs": [
        {
          "output_type": "stream",
          "name": "stdout",
          "text": [
            "[ 1 91 23 33]\n",
            "[ 4  2  1 12 13 14]\n"
          ]
        }
      ]
    },
    {
      "cell_type": "code",
      "source": [
        "# Python program to illustrate list extend()\n",
        "# original list\n",
        "devices = ['Mobile', 'Laptop', 'TV', 'HardDisk']\n",
        "# another list\n",
        "other_dev = ['Printer', 'Scanner']\n",
        "\n",
        "# extending original list with another list\n",
        "devices.extend(other_dev)\n",
        "print('Devices List:', devices)"
      ],
      "metadata": {
        "colab": {
          "base_uri": "https://localhost:8080/"
        },
        "id": "3OhTxoUPd2we",
        "outputId": "c209687d-7b84-418c-90f3-068ba518e680"
      },
      "execution_count": null,
      "outputs": [
        {
          "output_type": "stream",
          "name": "stdout",
          "text": [
            "Devices List: ['Mobile', 'Laptop', 'TV', 'HardDisk', 'Printer', 'Scanner']\n"
          ]
        }
      ]
    },
    {
      "cell_type": "markdown",
      "source": [
        "#9.remove"
      ],
      "metadata": {
        "id": "mimSWAm1eWSJ"
      }
    },
    {
      "cell_type": "code",
      "source": [
        "import array as arr\n",
        "\n",
        "numbers = arr.array('i', [10, 11, 12, 12, 13])\n",
        "\n",
        "numbers.remove(12)\n",
        "print(numbers)   # Output: array('i', [10, 11, 12, 13])\n",
        "\n",
        "print(numbers.pop(2))   # Output: 12\n",
        "print(numbers)   # Output: array('i', [10, 11, 13])"
      ],
      "metadata": {
        "colab": {
          "base_uri": "https://localhost:8080/"
        },
        "id": "CB0IalRBaJvC",
        "outputId": "21074c4f-dc7b-4312-a3a1-df63d43ec076"
      },
      "execution_count": null,
      "outputs": [
        {
          "output_type": "stream",
          "name": "stdout",
          "text": [
            "array('i', [10, 11, 12, 13])\n",
            "12\n",
            "array('i', [10, 11, 13])\n"
          ]
        }
      ]
    },
    {
      "cell_type": "markdown",
      "source": [
        "#10.Index"
      ],
      "metadata": {
        "id": "ZiARy_hZbwjg"
      }
    },
    {
      "cell_type": "code",
      "source": [
        "import array as arr\n",
        "\n",
        "numbers = arr.array('i',[10,20,30])\n",
        "\n",
        "print(numbers[0]) # gets the 1st element\n",
        "print(numbers[1]) # gets the 2nd element\n",
        "print(numbers[2]) # gets the 3rd element"
      ],
      "metadata": {
        "colab": {
          "base_uri": "https://localhost:8080/"
        },
        "id": "bKsAHqUpb0wN",
        "outputId": "e2155bbf-00b8-4545-f609-2d2bf5f8f51c"
      },
      "execution_count": null,
      "outputs": [
        {
          "output_type": "stream",
          "name": "stdout",
          "text": [
            "10\n",
            "20\n",
            "30\n"
          ]
        }
      ]
    },
    {
      "cell_type": "markdown",
      "source": [
        "#11.*Sort*\n",
        "\n",
        "Sorting techniques in data structures is a process of rearranging data elements in an array or list in order to make it easier to search and retrieve. The array data structure doesn't have a built-in function or method specifically for sorting its elements directly. However, we can achieve a sorted arrangement using one of the following approaches:\n",
        "\n",
        "- Using a sorting algorithm(will see in algorithm section)\n",
        "\n",
        "- Using the sort() method from the List class\n",
        "\n",
        "- Using the built-in sorted() function"
      ],
      "metadata": {
        "id": "e_7wXEBkb3IH"
      }
    },
    {
      "cell_type": "code",
      "source": [
        "#Using the sort() method from the List class\n",
        "import array as arr\n",
        "\n",
        "# creating array\n",
        "orgnlArray = arr.array('i', [10,5,15,4,6,20,9])\n",
        "print(\"Original array:\", orgnlArray)\n",
        "# converting to list\n",
        "sortedList = orgnlArray.tolist()\n",
        "# sorting the list\n",
        "sortedList.sort()\n",
        "\n",
        "# creating array from sorted list\n",
        "sortedArray = arr.array('i', sortedList)\n",
        "print(\"Array after sorting:\",sortedArray)"
      ],
      "metadata": {
        "colab": {
          "base_uri": "https://localhost:8080/"
        },
        "id": "5SKgrwsTd8a1",
        "outputId": "5e244cc7-c640-4bb4-a9b3-a149ee9dfa54"
      },
      "execution_count": null,
      "outputs": [
        {
          "output_type": "stream",
          "name": "stdout",
          "text": [
            "Original array: array('i', [10, 5, 15, 4, 6, 20, 9])\n",
            "Array after sorting: array('i', [4, 5, 6, 9, 10, 15, 20])\n"
          ]
        }
      ]
    },
    {
      "cell_type": "code",
      "source": [
        "#Using the built-in sorted() function\n",
        "import array as arr\n",
        "a = arr.array('i', [4, 5, 6, 9, 10, 15, 20])\n",
        "sorted(a)\n",
        "print(a)"
      ],
      "metadata": {
        "colab": {
          "base_uri": "https://localhost:8080/"
        },
        "id": "geX16-ohisZr",
        "outputId": "2b2c6460-1da6-493b-cbca-cd8871fe2220"
      },
      "execution_count": null,
      "outputs": [
        {
          "output_type": "stream",
          "name": "stdout",
          "text": [
            "array('i', [4, 5, 6, 9, 10, 15, 20])\n"
          ]
        }
      ]
    }
  ]
}